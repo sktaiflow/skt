{
 "cells": [
  {
   "cell_type": "markdown",
   "metadata": {},
   "source": [
    "# skt.mls\n",
    "\n",
    "mls client 생성을 위한 wrapper 제공\n",
    "\n",
    "```{note}\n",
    "get_secrets 와 get_mls_config 는 내부사용 목적으로 만들어진 method 이므로 가능하면 아래 method 사용 권장\n",
    "```"
   ]
  },
  {
   "cell_type": "code",
   "execution_count": null,
   "metadata": {},
   "outputs": [],
   "source": [
    "from skt.mls import get_mls_meta_table_client\n",
    "from skt.mls import get_mls_dimension_client\n",
    "from skt.mls import get_mls_experiment_client\n",
    "from skt.mls import get_mls_ml_model_client\n",
    "from skt.mls import get_mls_model_registry\n",
    "from skt.mls import get_mls_profile_api_client"
   ]
  },
  {
   "cell_type": "code",
   "execution_count": null,
   "metadata": {},
   "outputs": [],
   "source": [
    "cli = get_mls_meta_table_client(env=\"stg\", user=\"reco\")\n",
    "type(cli)"
   ]
  },
  {
   "cell_type": "code",
   "execution_count": null,
   "metadata": {},
   "outputs": [],
   "source": [
    "cli = get_mls_dimension_client(env=\"stg\", user=\"reco\")\n",
    "type(cli)"
   ]
  },
  {
   "cell_type": "code",
   "execution_count": null,
   "metadata": {},
   "outputs": [],
   "source": [
    "cli = get_mls_experiment_client(env=\"stg\", user=\"reco\")\n",
    "type(cli)"
   ]
  },
  {
   "cell_type": "code",
   "execution_count": null,
   "metadata": {},
   "outputs": [],
   "source": [
    "cli = get_mls_ml_model_client(env=\"stg\", user=\"reco\")\n",
    "type(cli)"
   ]
  },
  {
   "cell_type": "code",
   "execution_count": null,
   "metadata": {},
   "outputs": [],
   "source": [
    "cli = get_mls_model_registry(env=\"stg\", user=\"reco\")\n",
    "type(cli)"
   ]
  },
  {
   "cell_type": "code",
   "execution_count": null,
   "metadata": {},
   "outputs": [],
   "source": [
    "cli = get_mls_profile_api_client(env=\"stg\", user=\"reco\")\n",
    "type(cli)"
   ]
  }
 ],
 "metadata": {
  "kernelspec": {
   "display_name": "Python 3",
   "language": "python",
   "name": "python3"
  },
  "language_info": {
   "codemirror_mode": {
    "name": "ipython",
    "version": 3
   },
   "file_extension": ".py",
   "mimetype": "text/x-python",
   "name": "python",
   "nbconvert_exporter": "python",
   "pygments_lexer": "ipython3",
   "version": "3.6.10"
  }
 },
 "nbformat": 4,
 "nbformat_minor": 4
}
