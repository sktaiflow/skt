{
 "cells": [
  {
   "cell_type": "markdown",
   "metadata": {},
   "source": [
    "## BigQuery Sample Codes  \n",
    "AIDP 분석환경에서 제공하는 JupyerHub에서 skt 파이썬 패키지를 사용하면 BigQuery와 연동하여 분석 및 모델링 작업을 수행할 수 있습니다.  \n",
    "skt 패키지는 분석환경에 기본적으로 설치되어 있으며 pip를 사용하여 버전 업그레이드를 할 수 있습니다.\n",
    "~~~bash\n",
    "$ pip install --upgrade skt\n",
    "~~~"
   ]
  },
  {
   "cell_type": "markdown",
   "metadata": {},
   "source": [
    "### BigQuery 실행  \n",
    "다음과 같이 2가지 방법으로 쿼리를 실행하고 결과를 확인할 수 있습니다.  \n",
    "- IPython Magic을 사용하여 Jupyter Notebook Cell에서 SQL 실행\n",
    "- BigQuery Client 사용하여 SQL 실행"
   ]
  },
  {
   "cell_type": "markdown",
   "metadata": {},
   "source": [
    "#### IPython Magic으로 SQL 실행  \n",
    "Jupyter Notebook Cell에서 SQL을 실행하고 그 결과를 확인할 수 있습니다. 쿼리 결과는 변수에 Pandas Dataframe으로 저장할 수 있습니다. Ditonary로 정의된 쿼리 파라미터를 SQL에 주입할 수 있습니다."
   ]
  },
  {
   "cell_type": "markdown",
   "metadata": {},
   "source": [
    "먼저, IPython Magic을 로드합니다."
   ]
  },
  {
   "cell_type": "code",
   "execution_count": 1,
   "metadata": {
    "execution": {
     "iopub.execute_input": "2020-07-24T15:18:30.628880Z",
     "iopub.status.busy": "2020-07-24T15:18:30.628680Z",
     "iopub.status.idle": "2020-07-24T15:18:31.474149Z",
     "shell.execute_reply": "2020-07-24T15:18:31.473563Z",
     "shell.execute_reply.started": "2020-07-24T15:18:30.628858Z"
    }
   },
   "outputs": [],
   "source": [
    "from skt.gcp import load_bigquery_ipython_magic\n",
    "\n",
    "load_bigquery_ipython_magic()"
   ]
  },
  {
   "cell_type": "markdown",
   "metadata": {},
   "source": [
    "다음과 같이 SQL을 실행합니다."
   ]
  },
  {
   "cell_type": "code",
   "execution_count": 2,
   "metadata": {
    "execution": {
     "iopub.execute_input": "2020-07-24T15:18:31.475403Z",
     "iopub.status.busy": "2020-07-24T15:18:31.475207Z",
     "iopub.status.idle": "2020-07-24T15:18:33.764713Z",
     "shell.execute_reply": "2020-07-24T15:18:33.764186Z",
     "shell.execute_reply.started": "2020-07-24T15:18:31.475381Z"
    }
   },
   "outputs": [
    {
     "name": "stdout",
     "output_type": "stream",
     "text": [
      "BigQuery execution took 2 seconds.\n"
     ]
    },
    {
     "data": {
      "text/html": [
       "<div>\n",
       "<style scoped>\n",
       "    .dataframe tbody tr th:only-of-type {\n",
       "        vertical-align: middle;\n",
       "    }\n",
       "\n",
       "    .dataframe tbody tr th {\n",
       "        vertical-align: top;\n",
       "    }\n",
       "\n",
       "    .dataframe thead th {\n",
       "        text-align: right;\n",
       "    }\n",
       "</style>\n",
       "<table border=\"1\" class=\"dataframe\">\n",
       "  <thead>\n",
       "    <tr style=\"text-align: right;\">\n",
       "      <th></th>\n",
       "      <th>max_dt</th>\n",
       "    </tr>\n",
       "  </thead>\n",
       "  <tbody>\n",
       "    <tr>\n",
       "      <th>0</th>\n",
       "      <td>2020-07-22</td>\n",
       "    </tr>\n",
       "  </tbody>\n",
       "</table>\n",
       "</div>"
      ],
      "text/plain": [
       "       max_dt\n",
       "0  2020-07-22"
      ]
     },
     "execution_count": 2,
     "metadata": {},
     "output_type": "execute_result"
    }
   ],
   "source": [
    "%%bq\n",
    "    SELECT MAX(dt) as max_dt\n",
    "    FROM tworld.twd_dst_product_group"
   ]
  },
  {
   "cell_type": "markdown",
   "metadata": {},
   "source": [
    "SQL 결과를 Pandas DataFrame으로 변수에 저장할 수 있습니다. 다음은 max_dt라는 변수에 SQL 결과를 저장하는 예제입니다."
   ]
  },
  {
   "cell_type": "code",
   "execution_count": 3,
   "metadata": {
    "execution": {
     "iopub.execute_input": "2020-07-24T15:18:33.766067Z",
     "iopub.status.busy": "2020-07-24T15:18:33.765873Z",
     "iopub.status.idle": "2020-07-24T15:18:33.774345Z",
     "shell.execute_reply": "2020-07-24T15:18:33.773868Z",
     "shell.execute_reply.started": "2020-07-24T15:18:33.766045Z"
    }
   },
   "outputs": [],
   "source": [
    "from skt.ye import get_spark\n",
    "from skt.gcp import load_bigquery_ipython_magic, \\\n",
    "                    bq_to_pandas, \\\n",
    "                    get_bigquery_client\n",
    "\n",
    "load_bigquery_ipython_magic()"
   ]
  },
  {
   "cell_type": "code",
   "execution_count": 4,
   "metadata": {
    "execution": {
     "iopub.execute_input": "2020-07-24T15:18:33.775491Z",
     "iopub.status.busy": "2020-07-24T15:18:33.775313Z",
     "iopub.status.idle": "2020-07-24T15:18:36.404362Z",
     "shell.execute_reply": "2020-07-24T15:18:36.403630Z",
     "shell.execute_reply.started": "2020-07-24T15:18:33.775471Z"
    }
   },
   "outputs": [
    {
     "name": "stdout",
     "output_type": "stream",
     "text": [
      "BigQuery execution took 2 seconds.\n"
     ]
    }
   ],
   "source": [
    "%%bq max_dt\n",
    "\n",
    "SELECT MAX(dt) as value\n",
    "FROM tworld.twd_dst_product_group"
   ]
  },
  {
   "cell_type": "code",
   "execution_count": 5,
   "metadata": {
    "execution": {
     "iopub.execute_input": "2020-07-24T15:18:36.406449Z",
     "iopub.status.busy": "2020-07-24T15:18:36.406242Z",
     "iopub.status.idle": "2020-07-24T15:18:36.412747Z",
     "shell.execute_reply": "2020-07-24T15:18:36.412201Z",
     "shell.execute_reply.started": "2020-07-24T15:18:36.406425Z"
    }
   },
   "outputs": [
    {
     "data": {
      "text/html": [
       "<div>\n",
       "<style scoped>\n",
       "    .dataframe tbody tr th:only-of-type {\n",
       "        vertical-align: middle;\n",
       "    }\n",
       "\n",
       "    .dataframe tbody tr th {\n",
       "        vertical-align: top;\n",
       "    }\n",
       "\n",
       "    .dataframe thead th {\n",
       "        text-align: right;\n",
       "    }\n",
       "</style>\n",
       "<table border=\"1\" class=\"dataframe\">\n",
       "  <thead>\n",
       "    <tr style=\"text-align: right;\">\n",
       "      <th></th>\n",
       "      <th>value</th>\n",
       "    </tr>\n",
       "  </thead>\n",
       "  <tbody>\n",
       "    <tr>\n",
       "      <th>0</th>\n",
       "      <td>2020-07-22</td>\n",
       "    </tr>\n",
       "  </tbody>\n",
       "</table>\n",
       "</div>"
      ],
      "text/plain": [
       "        value\n",
       "0  2020-07-22"
      ]
     },
     "execution_count": 5,
     "metadata": {},
     "output_type": "execute_result"
    }
   ],
   "source": [
    "max_dt"
   ]
  },
  {
   "cell_type": "markdown",
   "metadata": {},
   "source": [
    "쿼리 파라미터를 SQL에 전달할 수 있습니다. 전달할 값은 Dictionary 타입으로 정의합니다."
   ]
  },
  {
   "cell_type": "code",
   "execution_count": 6,
   "metadata": {
    "execution": {
     "iopub.execute_input": "2020-07-24T15:18:36.413733Z",
     "iopub.status.busy": "2020-07-24T15:18:36.413546Z",
     "iopub.status.idle": "2020-07-24T15:18:36.423990Z",
     "shell.execute_reply": "2020-07-24T15:18:36.423465Z",
     "shell.execute_reply.started": "2020-07-24T15:18:36.413701Z"
    }
   },
   "outputs": [
    {
     "data": {
      "text/plain": [
       "{'max_dt': '2020-07-22'}"
      ]
     },
     "execution_count": 6,
     "metadata": {},
     "output_type": "execute_result"
    }
   ],
   "source": [
    "query_params = {\n",
    "    \"max_dt\": max_dt[\"value\"][0].strftime(\"%Y-%m-%d\")\n",
    "}\n",
    "\n",
    "query_params"
   ]
  },
  {
   "cell_type": "markdown",
   "metadata": {},
   "source": [
    "다음과 같이 params 옵션에 전달할 쿼리 파라미터 변수를 정의합니다."
   ]
  },
  {
   "cell_type": "code",
   "execution_count": 7,
   "metadata": {
    "execution": {
     "iopub.execute_input": "2020-07-24T15:18:36.424892Z",
     "iopub.status.busy": "2020-07-24T15:18:36.424721Z",
     "iopub.status.idle": "2020-07-24T15:18:38.703112Z",
     "shell.execute_reply": "2020-07-24T15:18:38.702501Z",
     "shell.execute_reply.started": "2020-07-24T15:18:36.424872Z"
    }
   },
   "outputs": [
    {
     "name": "stdout",
     "output_type": "stream",
     "text": [
      "BigQuery execution took 2 seconds.\n"
     ]
    },
    {
     "data": {
      "text/html": [
       "<div>\n",
       "<style scoped>\n",
       "    .dataframe tbody tr th:only-of-type {\n",
       "        vertical-align: middle;\n",
       "    }\n",
       "\n",
       "    .dataframe tbody tr th {\n",
       "        vertical-align: top;\n",
       "    }\n",
       "\n",
       "    .dataframe thead th {\n",
       "        text-align: right;\n",
       "    }\n",
       "</style>\n",
       "<table border=\"1\" class=\"dataframe\">\n",
       "  <thead>\n",
       "    <tr style=\"text-align: right;\">\n",
       "      <th></th>\n",
       "      <th>product_grp_id</th>\n",
       "      <th>product_grp_nm</th>\n",
       "      <th>dt</th>\n",
       "    </tr>\n",
       "  </thead>\n",
       "  <tbody>\n",
       "    <tr>\n",
       "      <th>0</th>\n",
       "      <td>000003412</td>\n",
       "      <td>노키아 바나나폰</td>\n",
       "      <td>2020-07-22</td>\n",
       "    </tr>\n",
       "    <tr>\n",
       "      <th>1</th>\n",
       "      <td>000001572</td>\n",
       "      <td>BlackBerry PRIV</td>\n",
       "      <td>2020-07-22</td>\n",
       "    </tr>\n",
       "    <tr>\n",
       "      <th>2</th>\n",
       "      <td>000002832</td>\n",
       "      <td>Re 아이폰 8</td>\n",
       "      <td>2020-07-22</td>\n",
       "    </tr>\n",
       "    <tr>\n",
       "      <th>3</th>\n",
       "      <td>000002833</td>\n",
       "      <td>Re 아이폰 8 플러스</td>\n",
       "      <td>2020-07-22</td>\n",
       "    </tr>\n",
       "    <tr>\n",
       "      <th>4</th>\n",
       "      <td>000002834</td>\n",
       "      <td>Re 아이폰 X</td>\n",
       "      <td>2020-07-22</td>\n",
       "    </tr>\n",
       "    <tr>\n",
       "      <th>...</th>\n",
       "      <td>...</td>\n",
       "      <td>...</td>\n",
       "      <td>...</td>\n",
       "    </tr>\n",
       "    <tr>\n",
       "      <th>359</th>\n",
       "      <td>000002072</td>\n",
       "      <td>갤럭시 와이드2</td>\n",
       "      <td>2020-07-22</td>\n",
       "    </tr>\n",
       "    <tr>\n",
       "      <th>360</th>\n",
       "      <td>000003332</td>\n",
       "      <td>애플워치4 44mm</td>\n",
       "      <td>2020-07-22</td>\n",
       "    </tr>\n",
       "    <tr>\n",
       "      <th>361</th>\n",
       "      <td>000004234</td>\n",
       "      <td>갤럭시 S20 플러스 5G</td>\n",
       "      <td>2020-07-22</td>\n",
       "    </tr>\n",
       "    <tr>\n",
       "      <th>362</th>\n",
       "      <td>000002412</td>\n",
       "      <td>엘지 스마트 폴더</td>\n",
       "      <td>2020-07-22</td>\n",
       "    </tr>\n",
       "    <tr>\n",
       "      <th>363</th>\n",
       "      <td>000002992</td>\n",
       "      <td>Xperia XZ2 HT</td>\n",
       "      <td>2020-07-22</td>\n",
       "    </tr>\n",
       "  </tbody>\n",
       "</table>\n",
       "<p>364 rows × 3 columns</p>\n",
       "</div>"
      ],
      "text/plain": [
       "    product_grp_id   product_grp_nm          dt\n",
       "0        000003412         노키아 바나나폰  2020-07-22\n",
       "1        000001572  BlackBerry PRIV  2020-07-22\n",
       "2        000002832         Re 아이폰 8  2020-07-22\n",
       "3        000002833     Re 아이폰 8 플러스  2020-07-22\n",
       "4        000002834         Re 아이폰 X  2020-07-22\n",
       "..             ...              ...         ...\n",
       "359      000002072         갤럭시 와이드2  2020-07-22\n",
       "360      000003332       애플워치4 44mm  2020-07-22\n",
       "361      000004234   갤럭시 S20 플러스 5G  2020-07-22\n",
       "362      000002412        엘지 스마트 폴더  2020-07-22\n",
       "363      000002992    Xperia XZ2 HT  2020-07-22\n",
       "\n",
       "[364 rows x 3 columns]"
      ]
     },
     "execution_count": 7,
     "metadata": {},
     "output_type": "execute_result"
    }
   ],
   "source": [
    "%%bq --params $query_params\n",
    "\n",
    "SELECT *\n",
    "FROM tworld.twd_dst_product_group\n",
    "WHERE dt = '{max_dt}'\n"
   ]
  },
  {
   "cell_type": "markdown",
   "metadata": {},
   "source": [
    "#### BigQuery Client로 SQL 실행  \n",
    "BigQuery Client는 Google에서 제공하는 Client Library에서 제공하는 객체입니다. SQL을 실행할 수 있을 뿐만 아니라 Google Client Library에서 제공하는 다양한 기능들을 활용할 수 있습니다. 더욱 자세한 내용은 <a href=\"https://googleapis.dev/python/bigquery/latest/generated/google.cloud.bigquery.client.Client.html#google.cloud.bigquery.client.Client\" target=\"_blank\">이곳</a>에서 확인하시기 바랍니다."
   ]
  },
  {
   "cell_type": "markdown",
   "metadata": {},
   "source": [
    "다음과 같이 BigQuery Client를 생성하여 SQL을 실행합니다. 쿼리 조회 결과가 있는 경우 Iterator 형태로 결과를 리턴해줍니다."
   ]
  },
  {
   "cell_type": "code",
   "execution_count": 8,
   "metadata": {
    "execution": {
     "iopub.execute_input": "2020-07-24T15:18:38.705028Z",
     "iopub.status.busy": "2020-07-24T15:18:38.704821Z",
     "iopub.status.idle": "2020-07-24T15:18:39.922397Z",
     "shell.execute_reply": "2020-07-24T15:18:39.921864Z",
     "shell.execute_reply.started": "2020-07-24T15:18:38.705005Z"
    }
   },
   "outputs": [
    {
     "data": {
      "text/plain": [
       "<google.cloud.bigquery.table.RowIterator at 0x7fe44231a588>"
      ]
     },
     "execution_count": 8,
     "metadata": {},
     "output_type": "execute_result"
    }
   ],
   "source": [
    "from skt.gcp import get_bigquery_client\n",
    "\n",
    "bq_client = get_bigquery_client()\n",
    "\n",
    "sql = \"\"\"\n",
    "    SELECT *\n",
    "    FROM tworld.twd_dst_product_group\n",
    "    WHERE dt = '{max_dt}'\n",
    "\"\"\".format(**query_params)\n",
    "\n",
    "bq_client.query(sql).result()"
   ]
  },
  {
   "cell_type": "markdown",
   "metadata": {
    "execution": {
     "iopub.execute_input": "2020-07-24T10:37:32.896007Z",
     "iopub.status.busy": "2020-07-24T10:37:32.895729Z",
     "iopub.status.idle": "2020-07-24T10:37:32.899963Z",
     "shell.execute_reply": "2020-07-24T10:37:32.899185Z",
     "shell.execute_reply.started": "2020-07-24T10:37:32.895978Z"
    }
   },
   "source": [
    "### BigQuery to Pandas\n",
    "위에서 설명했듯이 BigQuery 쿼리 결과를 Pandas Dataframe으로 리턴받을 수 있습니다.\n",
    "위의 IPython Magic 뿐만 아니라 skt 패키지에서 제공하는 메서드를 사용할 수도 있습니다.   \n",
    "   \n",
    "(참고 : Jupyter Notebook Cell에서 IPyhon Magic을 사용하여 SQL을 실행하는 경우 그 Cell에는 다른 Python 코드를 추가할 수 없습니다. Cell에 다른 Python 코드를 자유롭게 추가하려면 skt 패키지의 기능을 활용하시기 바랍니다.)\n",
    "\n",
    "\n",
    "다음은 bq_to_pandas 메서드로 결과를 Pandas Dataframe에 저장하는 예입니다."
   ]
  },
  {
   "cell_type": "code",
   "execution_count": 9,
   "metadata": {
    "execution": {
     "iopub.execute_input": "2020-07-24T15:18:39.923668Z",
     "iopub.status.busy": "2020-07-24T15:18:39.923477Z",
     "iopub.status.idle": "2020-07-24T15:18:44.598101Z",
     "shell.execute_reply": "2020-07-24T15:18:44.597587Z",
     "shell.execute_reply.started": "2020-07-24T15:18:39.923645Z"
    }
   },
   "outputs": [
    {
     "name": "stderr",
     "output_type": "stream",
     "text": [
      "Downloading: 100%|██████████| 364/364 [00:02<00:00, 126.98rows/s]\n"
     ]
    },
    {
     "data": {
      "text/html": [
       "<div>\n",
       "<style scoped>\n",
       "    .dataframe tbody tr th:only-of-type {\n",
       "        vertical-align: middle;\n",
       "    }\n",
       "\n",
       "    .dataframe tbody tr th {\n",
       "        vertical-align: top;\n",
       "    }\n",
       "\n",
       "    .dataframe thead th {\n",
       "        text-align: right;\n",
       "    }\n",
       "</style>\n",
       "<table border=\"1\" class=\"dataframe\">\n",
       "  <thead>\n",
       "    <tr style=\"text-align: right;\">\n",
       "      <th></th>\n",
       "      <th>product_grp_id</th>\n",
       "      <th>product_grp_nm</th>\n",
       "      <th>dt</th>\n",
       "    </tr>\n",
       "  </thead>\n",
       "  <tbody>\n",
       "    <tr>\n",
       "      <th>0</th>\n",
       "      <td>000003412</td>\n",
       "      <td>노키아 바나나폰</td>\n",
       "      <td>2020-07-22</td>\n",
       "    </tr>\n",
       "    <tr>\n",
       "      <th>1</th>\n",
       "      <td>000001572</td>\n",
       "      <td>BlackBerry PRIV</td>\n",
       "      <td>2020-07-22</td>\n",
       "    </tr>\n",
       "    <tr>\n",
       "      <th>2</th>\n",
       "      <td>000002832</td>\n",
       "      <td>Re 아이폰 8</td>\n",
       "      <td>2020-07-22</td>\n",
       "    </tr>\n",
       "    <tr>\n",
       "      <th>3</th>\n",
       "      <td>000002833</td>\n",
       "      <td>Re 아이폰 8 플러스</td>\n",
       "      <td>2020-07-22</td>\n",
       "    </tr>\n",
       "    <tr>\n",
       "      <th>4</th>\n",
       "      <td>000002834</td>\n",
       "      <td>Re 아이폰 X</td>\n",
       "      <td>2020-07-22</td>\n",
       "    </tr>\n",
       "    <tr>\n",
       "      <th>...</th>\n",
       "      <td>...</td>\n",
       "      <td>...</td>\n",
       "      <td>...</td>\n",
       "    </tr>\n",
       "    <tr>\n",
       "      <th>359</th>\n",
       "      <td>000002072</td>\n",
       "      <td>갤럭시 와이드2</td>\n",
       "      <td>2020-07-22</td>\n",
       "    </tr>\n",
       "    <tr>\n",
       "      <th>360</th>\n",
       "      <td>000003332</td>\n",
       "      <td>애플워치4 44mm</td>\n",
       "      <td>2020-07-22</td>\n",
       "    </tr>\n",
       "    <tr>\n",
       "      <th>361</th>\n",
       "      <td>000004234</td>\n",
       "      <td>갤럭시 S20 플러스 5G</td>\n",
       "      <td>2020-07-22</td>\n",
       "    </tr>\n",
       "    <tr>\n",
       "      <th>362</th>\n",
       "      <td>000002412</td>\n",
       "      <td>엘지 스마트 폴더</td>\n",
       "      <td>2020-07-22</td>\n",
       "    </tr>\n",
       "    <tr>\n",
       "      <th>363</th>\n",
       "      <td>000002992</td>\n",
       "      <td>Xperia XZ2 HT</td>\n",
       "      <td>2020-07-22</td>\n",
       "    </tr>\n",
       "  </tbody>\n",
       "</table>\n",
       "<p>364 rows × 3 columns</p>\n",
       "</div>"
      ],
      "text/plain": [
       "    product_grp_id   product_grp_nm         dt\n",
       "0        000003412         노키아 바나나폰 2020-07-22\n",
       "1        000001572  BlackBerry PRIV 2020-07-22\n",
       "2        000002832         Re 아이폰 8 2020-07-22\n",
       "3        000002833     Re 아이폰 8 플러스 2020-07-22\n",
       "4        000002834         Re 아이폰 X 2020-07-22\n",
       "..             ...              ...        ...\n",
       "359      000002072         갤럭시 와이드2 2020-07-22\n",
       "360      000003332       애플워치4 44mm 2020-07-22\n",
       "361      000004234   갤럭시 S20 플러스 5G 2020-07-22\n",
       "362      000002412        엘지 스마트 폴더 2020-07-22\n",
       "363      000002992    Xperia XZ2 HT 2020-07-22\n",
       "\n",
       "[364 rows x 3 columns]"
      ]
     },
     "execution_count": 9,
     "metadata": {},
     "output_type": "execute_result"
    }
   ],
   "source": [
    "from skt.gcp import bq_to_pandas\n",
    "\n",
    "pd_df = bq_to_pandas(\"\"\"\n",
    "    SELECT *\n",
    "    FROM tworld.twd_dst_product_group\n",
    "    WHERE dt = (SELECT MAX(dt) FROM tworld.twd_dst_product_group)\n",
    "\"\"\")\n",
    "\n",
    "pd_df"
   ]
  },
  {
   "cell_type": "markdown",
   "metadata": {
    "execution": {
     "iopub.execute_input": "2020-07-24T10:37:38.855128Z",
     "iopub.status.busy": "2020-07-24T10:37:38.854849Z",
     "iopub.status.idle": "2020-07-24T10:37:38.858801Z",
     "shell.execute_reply": "2020-07-24T10:37:38.858133Z",
     "shell.execute_reply.started": "2020-07-24T10:37:38.855101Z"
    }
   },
   "source": [
    "### Pandas to BigQuery\n",
    "\n",
    "Pandas Dataframe을 특정 BigQuery 테이블에 저장할 수 있습니다.  \n",
    "다음과 같이 Pandas Dataframe의 to_gbq 메서드를 사용합니다."
   ]
  },
  {
   "cell_type": "code",
   "execution_count": 10,
   "metadata": {
    "execution": {
     "iopub.execute_input": "2020-07-24T15:18:44.599162Z",
     "iopub.status.busy": "2020-07-24T15:18:44.598959Z",
     "iopub.status.idle": "2020-07-24T15:18:51.734142Z",
     "shell.execute_reply": "2020-07-24T15:18:51.733587Z",
     "shell.execute_reply.started": "2020-07-24T15:18:44.599139Z"
    }
   },
   "outputs": [
    {
     "name": "stdout",
     "output_type": "stream",
     "text": [
      "저장할 테이블 : temp_1d.twd_dst_product_group_1595603924\n"
     ]
    },
    {
     "name": "stderr",
     "output_type": "stream",
     "text": [
      "1it [00:04,  4.06s/it]\n"
     ]
    },
    {
     "data": {
      "text/plain": [
       "<google.cloud.bigquery.table.RowIterator at 0x7fe441520550>"
      ]
     },
     "execution_count": 10,
     "metadata": {},
     "output_type": "execute_result"
    }
   ],
   "source": [
    "import time\n",
    "\n",
    "dest_table = f\"temp_1d.twd_dst_product_group_{str(int(time.time()))}\"\n",
    "print(f\"저장할 테이블 : {dest_table}\")\n",
    "\n",
    "pd_df.to_gbq(dest_table)\n",
    "\n",
    "get_bigquery_client().query(f\"\"\"\n",
    "    SELECT *\n",
    "    FROM {dest_table}\n",
    "\"\"\").result()"
   ]
  },
  {
   "cell_type": "markdown",
   "metadata": {},
   "source": [
    "데이터가 테이블에 저장되었는지 확인합니다."
   ]
  },
  {
   "cell_type": "code",
   "execution_count": 11,
   "metadata": {
    "execution": {
     "iopub.execute_input": "2020-07-24T15:18:51.735191Z",
     "iopub.status.busy": "2020-07-24T15:18:51.735003Z",
     "iopub.status.idle": "2020-07-24T15:18:51.737955Z",
     "shell.execute_reply": "2020-07-24T15:18:51.737450Z",
     "shell.execute_reply.started": "2020-07-24T15:18:51.735168Z"
    }
   },
   "outputs": [],
   "source": [
    "query_params =  {\"dest_table\": dest_table}"
   ]
  },
  {
   "cell_type": "code",
   "execution_count": 12,
   "metadata": {
    "execution": {
     "iopub.execute_input": "2020-07-24T15:18:51.738990Z",
     "iopub.status.busy": "2020-07-24T15:18:51.738698Z",
     "iopub.status.idle": "2020-07-24T15:18:54.502788Z",
     "shell.execute_reply": "2020-07-24T15:18:54.502166Z",
     "shell.execute_reply.started": "2020-07-24T15:18:51.738958Z"
    }
   },
   "outputs": [
    {
     "name": "stdout",
     "output_type": "stream",
     "text": [
      "BigQuery execution took 2 seconds.\n"
     ]
    },
    {
     "data": {
      "text/html": [
       "<div>\n",
       "<style scoped>\n",
       "    .dataframe tbody tr th:only-of-type {\n",
       "        vertical-align: middle;\n",
       "    }\n",
       "\n",
       "    .dataframe tbody tr th {\n",
       "        vertical-align: top;\n",
       "    }\n",
       "\n",
       "    .dataframe thead th {\n",
       "        text-align: right;\n",
       "    }\n",
       "</style>\n",
       "<table border=\"1\" class=\"dataframe\">\n",
       "  <thead>\n",
       "    <tr style=\"text-align: right;\">\n",
       "      <th></th>\n",
       "      <th>product_grp_id</th>\n",
       "      <th>product_grp_nm</th>\n",
       "      <th>dt</th>\n",
       "    </tr>\n",
       "  </thead>\n",
       "  <tbody>\n",
       "    <tr>\n",
       "      <th>0</th>\n",
       "      <td>000003412</td>\n",
       "      <td>노키아 바나나폰</td>\n",
       "      <td>2020-07-22 00:00:00+00:00</td>\n",
       "    </tr>\n",
       "    <tr>\n",
       "      <th>1</th>\n",
       "      <td>000001572</td>\n",
       "      <td>BlackBerry PRIV</td>\n",
       "      <td>2020-07-22 00:00:00+00:00</td>\n",
       "    </tr>\n",
       "    <tr>\n",
       "      <th>2</th>\n",
       "      <td>000002832</td>\n",
       "      <td>Re 아이폰 8</td>\n",
       "      <td>2020-07-22 00:00:00+00:00</td>\n",
       "    </tr>\n",
       "    <tr>\n",
       "      <th>3</th>\n",
       "      <td>000002833</td>\n",
       "      <td>Re 아이폰 8 플러스</td>\n",
       "      <td>2020-07-22 00:00:00+00:00</td>\n",
       "    </tr>\n",
       "    <tr>\n",
       "      <th>4</th>\n",
       "      <td>000002834</td>\n",
       "      <td>Re 아이폰 X</td>\n",
       "      <td>2020-07-22 00:00:00+00:00</td>\n",
       "    </tr>\n",
       "    <tr>\n",
       "      <th>...</th>\n",
       "      <td>...</td>\n",
       "      <td>...</td>\n",
       "      <td>...</td>\n",
       "    </tr>\n",
       "    <tr>\n",
       "      <th>359</th>\n",
       "      <td>000002072</td>\n",
       "      <td>갤럭시 와이드2</td>\n",
       "      <td>2020-07-22 00:00:00+00:00</td>\n",
       "    </tr>\n",
       "    <tr>\n",
       "      <th>360</th>\n",
       "      <td>000003332</td>\n",
       "      <td>애플워치4 44mm</td>\n",
       "      <td>2020-07-22 00:00:00+00:00</td>\n",
       "    </tr>\n",
       "    <tr>\n",
       "      <th>361</th>\n",
       "      <td>000004234</td>\n",
       "      <td>갤럭시 S20 플러스 5G</td>\n",
       "      <td>2020-07-22 00:00:00+00:00</td>\n",
       "    </tr>\n",
       "    <tr>\n",
       "      <th>362</th>\n",
       "      <td>000002412</td>\n",
       "      <td>엘지 스마트 폴더</td>\n",
       "      <td>2020-07-22 00:00:00+00:00</td>\n",
       "    </tr>\n",
       "    <tr>\n",
       "      <th>363</th>\n",
       "      <td>000002992</td>\n",
       "      <td>Xperia XZ2 HT</td>\n",
       "      <td>2020-07-22 00:00:00+00:00</td>\n",
       "    </tr>\n",
       "  </tbody>\n",
       "</table>\n",
       "<p>364 rows × 3 columns</p>\n",
       "</div>"
      ],
      "text/plain": [
       "    product_grp_id   product_grp_nm                        dt\n",
       "0        000003412         노키아 바나나폰 2020-07-22 00:00:00+00:00\n",
       "1        000001572  BlackBerry PRIV 2020-07-22 00:00:00+00:00\n",
       "2        000002832         Re 아이폰 8 2020-07-22 00:00:00+00:00\n",
       "3        000002833     Re 아이폰 8 플러스 2020-07-22 00:00:00+00:00\n",
       "4        000002834         Re 아이폰 X 2020-07-22 00:00:00+00:00\n",
       "..             ...              ...                       ...\n",
       "359      000002072         갤럭시 와이드2 2020-07-22 00:00:00+00:00\n",
       "360      000003332       애플워치4 44mm 2020-07-22 00:00:00+00:00\n",
       "361      000004234   갤럭시 S20 플러스 5G 2020-07-22 00:00:00+00:00\n",
       "362      000002412        엘지 스마트 폴더 2020-07-22 00:00:00+00:00\n",
       "363      000002992    Xperia XZ2 HT 2020-07-22 00:00:00+00:00\n",
       "\n",
       "[364 rows x 3 columns]"
      ]
     },
     "execution_count": 12,
     "metadata": {},
     "output_type": "execute_result"
    }
   ],
   "source": [
    "%%bq --params $query_params\n",
    "\n",
    "SELECT *\n",
    "FROM {dest_table}"
   ]
  },
  {
   "cell_type": "markdown",
   "metadata": {},
   "source": [
    "### BigQuery to Spark  \n",
    "\n",
    "BigQuery 데이터를 가져와서 Spark로 처리할 수 있습니다. BigQuery SQL 결과를 Spark Dataframe으로 변환한 후 이어서 데이터 처리가 가능합니다."
   ]
  },
  {
   "cell_type": "code",
   "execution_count": 13,
   "metadata": {
    "execution": {
     "iopub.execute_input": "2020-07-24T15:18:54.504042Z",
     "iopub.status.busy": "2020-07-24T15:18:54.503830Z",
     "iopub.status.idle": "2020-07-24T15:19:20.216837Z",
     "shell.execute_reply": "2020-07-24T15:19:20.216162Z",
     "shell.execute_reply.started": "2020-07-24T15:18:54.504019Z"
    }
   },
   "outputs": [
    {
     "data": {
      "text/plain": [
       "[Row(product_grp_id='000000004', product_grp_nm='GALAXY S4', dt=datetime.datetime(2020, 7, 22, 9, 0)),\n",
       " Row(product_grp_id='000004192', product_grp_nm='갤럭시 탭 S6 5G', dt=datetime.datetime(2020, 7, 22, 9, 0)),\n",
       " Row(product_grp_id='000004232', product_grp_nm='갤럭시 Z 플립', dt=datetime.datetime(2020, 7, 22, 9, 0)),\n",
       " Row(product_grp_id='000003412', product_grp_nm='노키아 바나나폰', dt=datetime.datetime(2020, 7, 22, 9, 0)),\n",
       " Row(product_grp_id='000003613', product_grp_nm='iPad mini 5th', dt=datetime.datetime(2020, 7, 22, 9, 0))]"
      ]
     },
     "execution_count": 13,
     "metadata": {},
     "output_type": "execute_result"
    }
   ],
   "source": [
    "from skt.gcp import bq_to_df\n",
    "\n",
    "spark_df = bq_to_df(f\"\"\"\n",
    "    SELECT *\n",
    "    FROM {dest_table}\n",
    "\"\"\")\n",
    "\n",
    "spark_df.head(5)"
   ]
  },
  {
   "cell_type": "markdown",
   "metadata": {
    "execution": {
     "iopub.execute_input": "2020-07-24T10:49:31.530489Z",
     "iopub.status.busy": "2020-07-24T10:49:31.530234Z",
     "iopub.status.idle": "2020-07-24T10:49:31.534439Z",
     "shell.execute_reply": "2020-07-24T10:49:31.533990Z",
     "shell.execute_reply.started": "2020-07-24T10:49:31.530464Z"
    }
   },
   "source": [
    "### Spark to BigQuery  \n",
    "\n",
    "Spark으로 처리한 결과를 다시 BigQuery에 적재가 가능합니다.  \n",
    "다음은 위에서 spark_df 변수에 저장한 Spark Dataframe을 다시 BigQuery에 적재하는 예제입니다."
   ]
  },
  {
   "cell_type": "markdown",
   "metadata": {},
   "source": [
    "1. 먼저 저장할 테이블을 BigQuery에 생성합니다. 여기서는 파티션된 테이블을 생성하고 특정 파티션에 Spark Dataframe을 저장할 것입니다."
   ]
  },
  {
   "cell_type": "code",
   "execution_count": 14,
   "metadata": {
    "execution": {
     "iopub.execute_input": "2020-07-24T15:19:20.218298Z",
     "iopub.status.busy": "2020-07-24T15:19:20.218069Z",
     "iopub.status.idle": "2020-07-24T15:19:21.380266Z",
     "shell.execute_reply": "2020-07-24T15:19:21.379617Z",
     "shell.execute_reply.started": "2020-07-24T15:19:20.218272Z"
    }
   },
   "outputs": [
    {
     "name": "stdout",
     "output_type": "stream",
     "text": [
      "생성된 테이블 : temp_1d.twd_dst_product_group_1595603960\n"
     ]
    }
   ],
   "source": [
    "from skt.gcp import df_to_bq_table\n",
    "from pyspark.sql.types import DateType\n",
    "\n",
    "dest_dataset = \"temp_1d\"\n",
    "partitioned_dest_table = f\"twd_dst_product_group_{str(int(time.time()))}\"\n",
    "\n",
    "get_bigquery_client().query(f\"\"\"\n",
    "    CREATE OR REPLACE TABLE {dest_dataset}.{partitioned_dest_table}\n",
    "    (\n",
    "        product_grp_id STRING,\n",
    "        product_grp_nm STRING,\n",
    "        dt DATE\n",
    "    )\n",
    "    PARTITION BY dt\n",
    "\"\"\").result()\n",
    "\n",
    "print(f\"생성된 테이블 : {dest_dataset}.{partitioned_dest_table}\")"
   ]
  },
  {
   "cell_type": "markdown",
   "metadata": {},
   "source": [
    "2. Spark Dataframe을 BigQuery 테이블에 저장합니다. 여기서는 파티션 컬럼 타입이 Date이므로 타입 변환 작업을 해주었습니다. 이렇게 경우에 따라 타입 변환 작업이 필요한 경우가 있으므로 타입에 주의해주세요."
   ]
  },
  {
   "cell_type": "code",
   "execution_count": 15,
   "metadata": {
    "execution": {
     "iopub.execute_input": "2020-07-24T15:19:21.381428Z",
     "iopub.status.busy": "2020-07-24T15:19:21.381222Z",
     "iopub.status.idle": "2020-07-24T15:19:54.351286Z",
     "shell.execute_reply": "2020-07-24T15:19:54.350545Z",
     "shell.execute_reply.started": "2020-07-24T15:19:21.381405Z"
    }
   },
   "outputs": [],
   "source": [
    "changed_df = spark_df.select(\"product_grp_id\", \"product_grp_nm\", spark_df.dt.cast(\"date\"))\n",
    "partition_dt = changed_df.head(1)[0].dt.strftime(\"%Y%m%d\")\n",
    "df_to_bq_table(df=changed_df,\n",
    "               dataset=dest_dataset,\n",
    "               table_name=partitioned_dest_table,\n",
    "               partition=partition_dt,\n",
    "               mode=\"overwrite\")"
   ]
  },
  {
   "cell_type": "markdown",
   "metadata": {
    "execution": {
     "iopub.execute_input": "2020-07-24T11:22:22.034343Z",
     "iopub.status.busy": "2020-07-24T11:22:22.034091Z",
     "iopub.status.idle": "2020-07-24T11:22:24.605871Z",
     "shell.execute_reply": "2020-07-24T11:22:24.605324Z",
     "shell.execute_reply.started": "2020-07-24T11:22:22.034319Z"
    }
   },
   "source": [
    "3. BigQuery에 저장되었는지 확인합니다."
   ]
  },
  {
   "cell_type": "code",
   "execution_count": 16,
   "metadata": {
    "execution": {
     "iopub.execute_input": "2020-07-24T15:19:54.352656Z",
     "iopub.status.busy": "2020-07-24T15:19:54.352435Z",
     "iopub.status.idle": "2020-07-24T15:19:54.355591Z",
     "shell.execute_reply": "2020-07-24T15:19:54.355126Z",
     "shell.execute_reply.started": "2020-07-24T15:19:54.352633Z"
    }
   },
   "outputs": [],
   "source": [
    "query_params = {\"dataset\":dest_dataset, \"table_name\":partitioned_dest_table}"
   ]
  },
  {
   "cell_type": "code",
   "execution_count": 17,
   "metadata": {
    "execution": {
     "iopub.execute_input": "2020-07-24T15:19:54.356552Z",
     "iopub.status.busy": "2020-07-24T15:19:54.356367Z",
     "iopub.status.idle": "2020-07-24T15:19:57.603570Z",
     "shell.execute_reply": "2020-07-24T15:19:57.602965Z",
     "shell.execute_reply.started": "2020-07-24T15:19:54.356532Z"
    }
   },
   "outputs": [
    {
     "name": "stdout",
     "output_type": "stream",
     "text": [
      "BigQuery execution took 3 seconds.\n"
     ]
    },
    {
     "data": {
      "text/html": [
       "<div>\n",
       "<style scoped>\n",
       "    .dataframe tbody tr th:only-of-type {\n",
       "        vertical-align: middle;\n",
       "    }\n",
       "\n",
       "    .dataframe tbody tr th {\n",
       "        vertical-align: top;\n",
       "    }\n",
       "\n",
       "    .dataframe thead th {\n",
       "        text-align: right;\n",
       "    }\n",
       "</style>\n",
       "<table border=\"1\" class=\"dataframe\">\n",
       "  <thead>\n",
       "    <tr style=\"text-align: right;\">\n",
       "      <th></th>\n",
       "      <th>product_grp_id</th>\n",
       "      <th>product_grp_nm</th>\n",
       "      <th>dt</th>\n",
       "    </tr>\n",
       "  </thead>\n",
       "  <tbody>\n",
       "    <tr>\n",
       "      <th>0</th>\n",
       "      <td>000000004</td>\n",
       "      <td>GALAXY S4</td>\n",
       "      <td>2020-07-22</td>\n",
       "    </tr>\n",
       "    <tr>\n",
       "      <th>1</th>\n",
       "      <td>000004192</td>\n",
       "      <td>갤럭시 탭 S6 5G</td>\n",
       "      <td>2020-07-22</td>\n",
       "    </tr>\n",
       "    <tr>\n",
       "      <th>2</th>\n",
       "      <td>000004232</td>\n",
       "      <td>갤럭시 Z 플립</td>\n",
       "      <td>2020-07-22</td>\n",
       "    </tr>\n",
       "    <tr>\n",
       "      <th>3</th>\n",
       "      <td>000003412</td>\n",
       "      <td>노키아 바나나폰</td>\n",
       "      <td>2020-07-22</td>\n",
       "    </tr>\n",
       "    <tr>\n",
       "      <th>4</th>\n",
       "      <td>000003613</td>\n",
       "      <td>iPad mini 5th</td>\n",
       "      <td>2020-07-22</td>\n",
       "    </tr>\n",
       "    <tr>\n",
       "      <th>...</th>\n",
       "      <td>...</td>\n",
       "      <td>...</td>\n",
       "      <td>...</td>\n",
       "    </tr>\n",
       "    <tr>\n",
       "      <th>359</th>\n",
       "      <td>000002972</td>\n",
       "      <td>갤럭시 와이드3</td>\n",
       "      <td>2020-07-22</td>\n",
       "    </tr>\n",
       "    <tr>\n",
       "      <th>360</th>\n",
       "      <td>000004472</td>\n",
       "      <td>서피스 고2 LTE</td>\n",
       "      <td>2020-07-22</td>\n",
       "    </tr>\n",
       "    <tr>\n",
       "      <th>361</th>\n",
       "      <td>000003033</td>\n",
       "      <td>엘지 Q7 플러스</td>\n",
       "      <td>2020-07-22</td>\n",
       "    </tr>\n",
       "    <tr>\n",
       "      <th>362</th>\n",
       "      <td>000000035</td>\n",
       "      <td>VEGA LTE</td>\n",
       "      <td>2020-07-22</td>\n",
       "    </tr>\n",
       "    <tr>\n",
       "      <th>363</th>\n",
       "      <td>000002992</td>\n",
       "      <td>Xperia XZ2 HT</td>\n",
       "      <td>2020-07-22</td>\n",
       "    </tr>\n",
       "  </tbody>\n",
       "</table>\n",
       "<p>364 rows × 3 columns</p>\n",
       "</div>"
      ],
      "text/plain": [
       "    product_grp_id product_grp_nm          dt\n",
       "0        000000004      GALAXY S4  2020-07-22\n",
       "1        000004192    갤럭시 탭 S6 5G  2020-07-22\n",
       "2        000004232       갤럭시 Z 플립  2020-07-22\n",
       "3        000003412       노키아 바나나폰  2020-07-22\n",
       "4        000003613  iPad mini 5th  2020-07-22\n",
       "..             ...            ...         ...\n",
       "359      000002972       갤럭시 와이드3  2020-07-22\n",
       "360      000004472     서피스 고2 LTE  2020-07-22\n",
       "361      000003033      엘지 Q7 플러스  2020-07-22\n",
       "362      000000035       VEGA LTE  2020-07-22\n",
       "363      000002992  Xperia XZ2 HT  2020-07-22\n",
       "\n",
       "[364 rows x 3 columns]"
      ]
     },
     "execution_count": 17,
     "metadata": {},
     "output_type": "execute_result"
    }
   ],
   "source": [
    "%%bq --params $query_params\n",
    "    SELECT *\n",
    "    FROM {dataset}.{table_name}"
   ]
  }
 ],
 "metadata": {
  "kernelspec": {
   "display_name": "Python 3",
   "language": "python",
   "name": "python3"
  },
  "language_info": {
   "codemirror_mode": {
    "name": "ipython",
    "version": 3
   },
   "file_extension": ".py",
   "mimetype": "text/x-python",
   "name": "python",
   "nbconvert_exporter": "python",
   "pygments_lexer": "ipython3",
   "version": "3.6.10"
  }
 },
 "nbformat": 4,
 "nbformat_minor": 4
}
